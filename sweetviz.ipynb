{
 "cells": [
  {
   "cell_type": "code",
   "execution_count": null,
   "id": "30d64371",
   "metadata": {},
   "outputs": [],
   "source": [
    "# import sweetviz as sv\n",
    "\n",
    "# # just_churn\n",
    "\n",
    "# just_churn_0_years = sv.analyze(just_churn[just_churn['years']==0])\n",
    "\n",
    "# # Gerar o HTML com o relatório\n",
    "# just_churn_0_years.show_html('relatorio_sweetviz.html')-\n",
    "\n",
    "\n",
    "# # https://ricardolessatissi.medium.com/insights-com-dados-com-a-biblioteca-sweetviz-ae4c8f2ff05e"
   ]
  }
 ],
 "metadata": {
  "language_info": {
   "name": "python"
  }
 },
 "nbformat": 4,
 "nbformat_minor": 5
}
